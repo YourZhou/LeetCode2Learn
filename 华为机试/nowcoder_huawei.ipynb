{
 "cells": [
  {
   "cell_type": "markdown",
   "source": [
    "## 牛客-华为机试\n",
    "#### 导包"
   ],
   "metadata": {
    "collapsed": false
   }
  },
  {
   "cell_type": "code",
   "execution_count": 10,
   "outputs": [],
   "source": [
    "import sys\n",
    "import collections"
   ],
   "metadata": {
    "collapsed": false,
    "pycharm": {
     "name": "#%%\n"
    }
   }
  },
  {
   "cell_type": "markdown",
   "source": [
    "#### HJ1 字符串最后一个单词的长度"
   ],
   "metadata": {
    "collapsed": false,
    "pycharm": {
     "name": "#%% md\n"
    }
   }
  },
  {
   "cell_type": "code",
   "execution_count": 2,
   "outputs": [
    {
     "name": "stdout",
     "output_type": "stream",
     "text": [
      "8\n"
     ]
    }
   ],
   "source": [
    "inputs = \"hello nowcoder\"\n",
    "s = inputs.split(\" \")[-1]\n",
    "print(len(s))"
   ],
   "metadata": {
    "collapsed": false,
    "pycharm": {
     "name": "#%%\n"
    }
   }
  },
  {
   "cell_type": "markdown",
   "source": [
    "#### HJ2 计算某字符出现次数"
   ],
   "metadata": {
    "collapsed": false,
    "pycharm": {
     "name": "#%% md\n"
    }
   }
  },
  {
   "cell_type": "code",
   "execution_count": 6,
   "outputs": [
    {
     "name": "stdout",
     "output_type": "stream",
     "text": [
      "0\n"
     ]
    }
   ],
   "source": [
    "inputs_1 = \"ABCabc\"\n",
    "inputs_2 = \"G\"\n",
    "upper_1 = inputs_1.upper()\n",
    "upper_2 = inputs_2.upper()\n",
    "print(upper_1.count(upper_2))"
   ],
   "metadata": {
    "collapsed": false,
    "pycharm": {
     "name": "#%%\n"
    }
   }
  },
  {
   "cell_type": "markdown",
   "source": [
    "#### HJ3 明明的随机数\n",
    "注意使用set集合\n",
    "input的数据类型为字符串,注意转换"
   ],
   "metadata": {
    "collapsed": false,
    "pycharm": {
     "name": "#%% md\n"
    }
   }
  },
  {
   "cell_type": "code",
   "execution_count": 17,
   "outputs": [
    {
     "name": "stdout",
     "output_type": "stream",
     "text": [
      "1\n",
      "2\n",
      "3\n",
      "5\n",
      "6\n"
     ]
    }
   ],
   "source": [
    "inputs = input()\n",
    "inputList = []\n",
    "for i in range(int(inputs)):\n",
    "    inputList.append(int(input()))\n",
    "outputSet = set(inputList)\n",
    "l = sorted(outputSet)\n",
    "for i in l:\n",
    "    print(i)"
   ],
   "metadata": {
    "collapsed": false,
    "pycharm": {
     "name": "#%%\n"
    }
   }
  },
  {
   "cell_type": "markdown",
   "source": [
    "#### HJ4 字符串分隔"
   ],
   "metadata": {
    "collapsed": false,
    "pycharm": {
     "name": "#%% md\n"
    }
   }
  },
  {
   "cell_type": "code",
   "execution_count": 30,
   "outputs": [
    {
     "name": "stdout",
     "output_type": "stream",
     "text": [
      "12345672\n",
      "20000000\n"
     ]
    }
   ],
   "source": [
    "inputs = \"12345672\"\n",
    "if inputs is None:\n",
    "    print(inputs)\n",
    "inputList = []\n",
    "inputsLen = len(inputs)\n",
    "splitNum = inputsLen // 8\n",
    "for i in range(splitNum):\n",
    "    print(inputs[:8])\n",
    "    inputs = inputs[8:]\n",
    "if inputs != \"\":\n",
    "    outputs = inputs + (8-len(inputs))*\"0\"\n",
    "    print(outputs)"
   ],
   "metadata": {
    "collapsed": false,
    "pycharm": {
     "name": "#%%\n"
    }
   }
  },
  {
   "cell_type": "markdown",
   "source": [
    "#### HJ5 进制转换\n",
    "使用int(xx,进制)"
   ],
   "metadata": {
    "collapsed": false
   }
  },
  {
   "cell_type": "code",
   "execution_count": 32,
   "outputs": [
    {
     "name": "stdout",
     "output_type": "stream",
     "text": [
      "170\n"
     ]
    }
   ],
   "source": [
    "inputs = input().strip()\n",
    "outputs = int(inputs,16)\n",
    "print(outputs)"
   ],
   "metadata": {
    "collapsed": false,
    "pycharm": {
     "name": "#%%\n"
    }
   }
  }
 ],
 "metadata": {
  "kernelspec": {
   "display_name": "Python 3",
   "language": "python",
   "name": "python3"
  },
  "language_info": {
   "codemirror_mode": {
    "name": "ipython",
    "version": 2
   },
   "file_extension": ".py",
   "mimetype": "text/x-python",
   "name": "python",
   "nbconvert_exporter": "python",
   "pygments_lexer": "ipython2",
   "version": "2.7.6"
  }
 },
 "nbformat": 4,
 "nbformat_minor": 0
}