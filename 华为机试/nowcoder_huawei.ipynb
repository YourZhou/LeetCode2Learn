{
 "cells": [
  {
   "cell_type": "markdown",
   "source": [
    "## 牛客-华为机试\n",
    "#### 导包"
   ],
   "metadata": {
    "collapsed": false
   }
  },
  {
   "cell_type": "code",
   "execution_count": 6,
   "outputs": [],
   "source": [
    "import sys\n",
    "import collections\n",
    "import math"
   ],
   "metadata": {
    "collapsed": false,
    "pycharm": {
     "name": "#%%\n"
    }
   }
  },
  {
   "cell_type": "markdown",
   "source": [
    "#### HJ1 字符串最后一个单词的长度"
   ],
   "metadata": {
    "collapsed": false,
    "pycharm": {
     "name": "#%% md\n"
    }
   }
  },
  {
   "cell_type": "code",
   "execution_count": 2,
   "outputs": [
    {
     "name": "stdout",
     "output_type": "stream",
     "text": [
      "8\n"
     ]
    }
   ],
   "source": [
    "inputs = \"hello nowcoder\"\n",
    "s = inputs.split(\" \")[-1]\n",
    "print(len(s))"
   ],
   "metadata": {
    "collapsed": false,
    "pycharm": {
     "name": "#%%\n"
    }
   }
  },
  {
   "cell_type": "markdown",
   "source": [
    "#### HJ2 计算某字符出现次数"
   ],
   "metadata": {
    "collapsed": false,
    "pycharm": {
     "name": "#%% md\n"
    }
   }
  },
  {
   "cell_type": "code",
   "execution_count": 6,
   "outputs": [
    {
     "name": "stdout",
     "output_type": "stream",
     "text": [
      "0\n"
     ]
    }
   ],
   "source": [
    "inputs_1 = \"ABCabc\"\n",
    "inputs_2 = \"G\"\n",
    "upper_1 = inputs_1.upper()\n",
    "upper_2 = inputs_2.upper()\n",
    "print(upper_1.count(upper_2))"
   ],
   "metadata": {
    "collapsed": false,
    "pycharm": {
     "name": "#%%\n"
    }
   }
  },
  {
   "cell_type": "markdown",
   "source": [
    "#### HJ3 明明的随机数\n",
    "注意使用set集合\n",
    "input的数据类型为字符串,注意转换"
   ],
   "metadata": {
    "collapsed": false,
    "pycharm": {
     "name": "#%% md\n"
    }
   }
  },
  {
   "cell_type": "code",
   "execution_count": 17,
   "outputs": [
    {
     "name": "stdout",
     "output_type": "stream",
     "text": [
      "1\n",
      "2\n",
      "3\n",
      "5\n",
      "6\n"
     ]
    }
   ],
   "source": [
    "inputs = input()\n",
    "inputList = []\n",
    "for i in range(int(inputs)):\n",
    "    inputList.append(int(input()))\n",
    "outputSet = set(inputList)\n",
    "l = sorted(outputSet)\n",
    "for i in l:\n",
    "    print(i)"
   ],
   "metadata": {
    "collapsed": false,
    "pycharm": {
     "name": "#%%\n"
    }
   }
  },
  {
   "cell_type": "markdown",
   "source": [
    "#### HJ4 字符串分隔"
   ],
   "metadata": {
    "collapsed": false,
    "pycharm": {
     "name": "#%% md\n"
    }
   }
  },
  {
   "cell_type": "code",
   "execution_count": 30,
   "outputs": [
    {
     "name": "stdout",
     "output_type": "stream",
     "text": [
      "12345672\n",
      "20000000\n"
     ]
    }
   ],
   "source": [
    "inputs = \"12345672\"\n",
    "if inputs is None:\n",
    "    print(inputs)\n",
    "inputList = []\n",
    "inputsLen = len(inputs)\n",
    "splitNum = inputsLen // 8\n",
    "for i in range(splitNum):\n",
    "    print(inputs[:8])\n",
    "    inputs = inputs[8:]\n",
    "if inputs != \"\":\n",
    "    outputs = inputs + (8-len(inputs))*\"0\"\n",
    "    print(outputs)"
   ],
   "metadata": {
    "collapsed": false,
    "pycharm": {
     "name": "#%%\n"
    }
   }
  },
  {
   "cell_type": "markdown",
   "source": [
    "#### HJ5 进制转换\n",
    "使用int(xx,进制)\n"
   ],
   "metadata": {
    "collapsed": false
   }
  },
  {
   "cell_type": "code",
   "execution_count": 32,
   "outputs": [
    {
     "name": "stdout",
     "output_type": "stream",
     "text": [
      "170\n"
     ]
    }
   ],
   "source": [
    "inputs = input().strip()\n",
    "outputs = int(inputs,16)\n",
    "print(outputs)"
   ],
   "metadata": {
    "collapsed": false,
    "pycharm": {
     "name": "#%%\n"
    }
   }
  },
  {
   "cell_type": "markdown",
   "source": [
    "#### HJ6 质数因子\n",
    "使用开根号求最大质因数math.sqrt"
   ],
   "metadata": {
    "collapsed": false
   }
  },
  {
   "cell_type": "code",
   "execution_count": 3,
   "outputs": [
    {
     "name": "stdout",
     "output_type": "stream",
     "text": [
      "2 2 3 3 5 "
     ]
    }
   ],
   "source": [
    "inputs = int(\"180\")\n",
    "for i in range(2, int(math.sqrt(inputs))+1):\n",
    "    while inputs % i == 0:\n",
    "        print(i,end=\" \")\n",
    "        inputs = inputs // i\n",
    "if inputs > 2:\n",
    "    print(inputs)"
   ],
   "metadata": {
    "collapsed": false,
    "pycharm": {
     "name": "#%%\n"
    }
   }
  },
  {
   "cell_type": "markdown",
   "source": [
    "#### HJ7 取近似值"
   ],
   "metadata": {
    "collapsed": false
   }
  },
  {
   "cell_type": "code",
   "execution_count": 6,
   "outputs": [
    {
     "name": "stdout",
     "output_type": "stream",
     "text": [
      "6\n"
     ]
    }
   ],
   "source": [
    "inputs = float(input())\n",
    "ints = int(inputs)\n",
    "flos = inputs-ints\n",
    "if flos>=0.5:\n",
    "    ints = ints+1\n",
    "print(ints)"
   ],
   "metadata": {
    "collapsed": false,
    "pycharm": {
     "name": "#%%\n"
    }
   }
  },
  {
   "cell_type": "markdown",
   "source": [
    "#### HJ8 合并表记录"
   ],
   "metadata": {
    "collapsed": false
   }
  },
  {
   "cell_type": "code",
   "execution_count": 11,
   "outputs": [
    {
     "name": "stdout",
     "output_type": "stream",
     "text": [
      "0 3\n",
      "1 3\n"
     ]
    }
   ],
   "source": [
    "inputNum = int(input())\n",
    "dic = {}\n",
    "for i in range(inputNum):\n",
    "    line = input().split(\" \")\n",
    "    key = int(line[0])\n",
    "    value = int(line[1])\n",
    "    dic[key] = dic.get(key,0)+value\n",
    "for j in sorted(dic):\n",
    "    print(j,dic[j])"
   ],
   "metadata": {
    "collapsed": false,
    "pycharm": {
     "name": "#%%\n"
    }
   }
  },
  {
   "cell_type": "markdown",
   "source": [
    "#### HJ9 提取不重复的整数"
   ],
   "metadata": {
    "collapsed": false
   }
  },
  {
   "cell_type": "code",
   "execution_count": 26,
   "outputs": [
    {
     "name": "stdout",
     "output_type": "stream",
     "text": [
      "1725\n"
     ]
    }
   ],
   "source": [
    "inputs = \"2752771\"[::-1]\n",
    "outputs = \"\"\n",
    "for i in inputs:\n",
    "    if i not in outputs:\n",
    "        outputs = outputs+i\n",
    "print(outputs)"
   ],
   "metadata": {
    "collapsed": false,
    "pycharm": {
     "name": "#%%\n"
    }
   }
  },
  {
   "cell_type": "markdown",
   "source": [
    "#### HJ10 字符个数统计"
   ],
   "metadata": {
    "collapsed": false
   }
  },
  {
   "cell_type": "code",
   "execution_count": 27,
   "outputs": [
    {
     "name": "stdout",
     "output_type": "stream",
     "text": [
      "3\n"
     ]
    }
   ],
   "source": [
    "inputs = input()\n",
    "outputs = \"\"\n",
    "for i in inputs:\n",
    "    if i not in outputs:\n",
    "        outputs = outputs+i\n",
    "print(len(outputs))"
   ],
   "metadata": {
    "collapsed": false,
    "pycharm": {
     "name": "#%%\n"
    }
   }
  },
  {
   "cell_type": "markdown",
   "source": [
    "#### HJ11 数字颠倒"
   ],
   "metadata": {
    "collapsed": false
   }
  },
  {
   "cell_type": "code",
   "execution_count": null,
   "outputs": [],
   "source": [
    "print(input()[::-1])"
   ],
   "metadata": {
    "collapsed": false,
    "pycharm": {
     "name": "#%%\n"
    }
   }
  },
  {
   "cell_type": "markdown",
   "source": [
    "#### HJ12 字符串反转"
   ],
   "metadata": {
    "collapsed": false
   }
  },
  {
   "cell_type": "code",
   "execution_count": null,
   "outputs": [],
   "source": [
    "print(input()[::-1])"
   ],
   "metadata": {
    "collapsed": false,
    "pycharm": {
     "name": "#%%\n"
    }
   }
  },
  {
   "cell_type": "markdown",
   "source": [
    "#### HJ13 句子逆序"
   ],
   "metadata": {
    "collapsed": false
   }
  },
  {
   "cell_type": "code",
   "execution_count": 28,
   "outputs": [
    {
     "name": "stdout",
     "output_type": "stream",
     "text": [
      "boy a am I\n"
     ]
    }
   ],
   "source": [
    "print(\" \".join(input().split()[::-1]))"
   ],
   "metadata": {
    "collapsed": false,
    "pycharm": {
     "name": "#%%\n"
    }
   }
  },
  {
   "cell_type": "markdown",
   "source": [
    "#### HJ14 字符串排序"
   ],
   "metadata": {
    "collapsed": false
   }
  },
  {
   "cell_type": "code",
   "execution_count": null,
   "outputs": [],
   "source": [
    "inputNum = int(input())\n",
    "inputList = []\n",
    "for i in range(inputNum):\n",
    "    inputList.append(input())\n",
    "    inputList.sort()\n",
    "for j in inputList:\n",
    "    print(j)"
   ],
   "metadata": {
    "collapsed": false,
    "pycharm": {
     "name": "#%%\n"
    }
   }
  },
  {
   "cell_type": "markdown",
   "source": [
    "#### HJ15 求int型正整数在内存中存储时1的个数"
   ],
   "metadata": {
    "collapsed": false
   }
  },
  {
   "cell_type": "code",
   "execution_count": 32,
   "outputs": [
    {
     "name": "stdout",
     "output_type": "stream",
     "text": [
      "2\n"
     ]
    }
   ],
   "source": [
    "print(bin(int(input()))[2:].count(\"1\"))"
   ],
   "metadata": {
    "collapsed": false,
    "pycharm": {
     "name": "#%%\n"
    }
   }
  },
  {
   "cell_type": "markdown",
   "source": [
    "#### HJ16 购物单"
   ],
   "metadata": {
    "collapsed": false
   }
  },
  {
   "cell_type": "code",
   "execution_count": 34,
   "outputs": [
    {
     "name": "stdout",
     "output_type": "stream",
     "text": [
      "{2, 3}\n"
     ]
    }
   ],
   "source": [
    "# todo\n"
   ],
   "metadata": {
    "collapsed": false,
    "pycharm": {
     "name": "#%%\n"
    }
   }
  },
  {
   "cell_type": "markdown",
   "source": [
    "#### HJ17 坐标移动"
   ],
   "metadata": {
    "collapsed": false
   }
  },
  {
   "cell_type": "code",
   "execution_count": 5,
   "outputs": [
    {
     "name": "stdout",
     "output_type": "stream",
     "text": [
      "['A10', 'S20', 'W10', 'D30', 'X', 'A1A', 'B10A11', '', 'A10', '']\n",
      "10,-10\n"
     ]
    }
   ],
   "source": [
    "inputs = \"A10;S20;W10;D30;X;A1A;B10A11;;A10;\"\n",
    "inputList = inputs.strip().split(\";\")\n",
    "axis = [0,0]\n",
    "for item in inputList:\n",
    "    if not 2 <= len(item) <= 3:\n",
    "        continue\n",
    "    try:\n",
    "        direction = item[0]\n",
    "        step = int(item[1:])\n",
    "        if direction in [\"W\",\"A\",\"S\",\"D\"]:\n",
    "            if 0 <= step <= 99:\n",
    "                if direction is \"W\":\n",
    "                    axis[1] = axis[1]+step\n",
    "                elif direction is \"A\":\n",
    "                    axis[0] = axis[0]-step\n",
    "                elif direction is \"S\":\n",
    "                    axis[1] = axis[1]-step\n",
    "                elif direction is \"D\":\n",
    "                    axis[0] = axis[0]+step\n",
    "    except:\n",
    "        continue\n",
    "print(str(axis[0])+\",\"+str(axis[1]))"
   ],
   "metadata": {
    "collapsed": false,
    "pycharm": {
     "name": "#%%\n"
    }
   }
  },
  {
   "cell_type": "markdown",
   "source": [
    "#### HJ18 识别有效的IP地址和掩码并进行分类统计"
   ],
   "metadata": {
    "collapsed": false
   }
  },
  {
   "cell_type": "code",
   "execution_count": null,
   "outputs": [],
   "source": [
    "# todo"
   ],
   "metadata": {
    "collapsed": false,
    "pycharm": {
     "name": "#%%\n"
    }
   }
  },
  {
   "cell_type": "markdown",
   "source": [
    "#### HJ19 简单错误记录"
   ],
   "metadata": {
    "collapsed": false
   }
  },
  {
   "cell_type": "code",
   "execution_count": 10,
   "outputs": [
    {
     "name": "stdout",
     "output_type": "stream",
     "text": [
      "ccckkkkkkkkkkkkkkkk\n",
      "kkkkkkkkkkkkkkkk\n",
      "c2kkkkkkkkkkkkkkkk\n",
      "kkkkkkkkkkkkkkkk\n",
      "kkkkkkkkkkkkkkkk 456 2\n"
     ]
    }
   ],
   "source": [
    "ordered_dict = collections.OrderedDict()\n",
    "while True:\n",
    "    try:\n",
    "        inputs = input().split(\"\\\\\")[-1]\n",
    "        fileName,line = inputs.split(\" \")\n",
    "        if len(fileName)>16:\n",
    "            fileName = fileName[-16:]\n",
    "        key = fileName + \".\" + line\n",
    "        if key not in ordered_dict.keys():\n",
    "            ordered_dict[key] = 1\n",
    "        else:\n",
    "            ordered_dict[key] += 1\n",
    "    except:\n",
    "        break\n",
    "dictList = list(ordered_dict.items())\n",
    "if len(dictList)>8:\n",
    "    dictList = dictList[-8:]\n",
    "for keys,value in collections.OrderedDict(dictList).items():\n",
    "    replace = keys.replace(\".\",\" \")\n",
    "    print(replace,value)"
   ],
   "metadata": {
    "collapsed": false,
    "pycharm": {
     "name": "#%%\n"
    }
   }
  },
  {
   "cell_type": "markdown",
   "source": [
    "#### HJ16 购物单"
   ],
   "metadata": {
    "collapsed": false
   }
  },
  {
   "cell_type": "code",
   "execution_count": 3,
   "outputs": [
    {
     "name": "stdout",
     "output_type": "stream",
     "text": [
      "398h$720CD0h&7f9~A403mex~lu#$*0+0CD0\n",
      "NG\n",
      "NG\n",
      "NG\n",
      "OK\n"
     ]
    }
   ],
   "source": [
    "def find_substrings(string):\n",
    "    subStrings = []\n",
    "    for i in range(len(string)):\n",
    "        for j in range(i+1,len(string)+1):\n",
    "            subStrings.append(string[i:j])\n",
    "    return subStrings\n",
    "\n",
    "def test_password(inputs):\n",
    "    if len(inputs) < 8:\n",
    "        return \"NG\"\n",
    "    kinds = set()\n",
    "    subStrings = []\n",
    "    for i in range(len(inputs)):\n",
    "        for j in range(i + 1, len(inputs) + 1):\n",
    "            subString = inputs[i:j]\n",
    "            if len(subString) == 1:\n",
    "                if subString.isdigit():\n",
    "                    kinds.add(\"digit\")\n",
    "                elif subString.isupper():\n",
    "                    kinds.add(\"upper\")\n",
    "                elif subString.islower():\n",
    "                    kinds.add(\"lower\")\n",
    "                else:\n",
    "                    kinds.add(\"punt\")\n",
    "            elif len(subString) > 2:\n",
    "                if subString not in subStrings:\n",
    "                    subStrings.append(subString)\n",
    "                else:\n",
    "                    return \"NG\"\n",
    "    if len(kinds) < 3:\n",
    "        return \"NG\"\n",
    "    return \"OK\"\n",
    "\n",
    "inputs = input()\n",
    "print(test_password(inputs))\n",
    "\n"
   ],
   "metadata": {
    "collapsed": false,
    "pycharm": {
     "name": "#%%\n"
    }
   }
  },
  {
   "cell_type": "markdown",
   "source": [
    "#### HJ19 简单错误记录\n",
    "\n",
    "\n",
    "\n",
    "\n",
    "\n",
    "\n",
    "\n",
    "\n",
    "\n",
    "\n",
    "\n",
    "\n",
    "\n",
    "\n",
    "\n",
    "\n",
    "\n",
    "\n",
    "\n",
    "\n",
    "\n",
    "\n",
    "\n",
    "\n",
    "\n",
    "\n",
    "\n",
    "\n",
    "\n",
    "\n",
    "\n",
    "\n",
    "\n",
    "\n",
    "\n",
    "\n",
    "\n",
    "\n",
    "\n",
    "\n",
    "\n",
    "\n",
    "\n",
    "\n",
    "\n",
    "\n",
    "\n",
    "\n",
    "\n",
    "\n",
    "\n",
    "\n",
    "\n",
    "\n",
    "\n",
    "\n",
    "\n",
    "\n"
   ],
   "metadata": {
    "collapsed": false
   }
  }
 ],
 "metadata": {
  "kernelspec": {
   "name": "python3",
   "language": "python",
   "display_name": "Python 3 (ipykernel)"
  },
  "language_info": {
   "codemirror_mode": {
    "name": "ipython",
    "version": 2
   },
   "file_extension": ".py",
   "mimetype": "text/x-python",
   "name": "python",
   "nbconvert_exporter": "python",
   "pygments_lexer": "ipython2",
   "version": "2.7.6"
  }
 },
 "nbformat": 4,
 "nbformat_minor": 0
}