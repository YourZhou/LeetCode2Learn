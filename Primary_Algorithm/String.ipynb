{
 "cells": [
  {
   "cell_type": "markdown",
   "metadata": {
    "collapsed": true,
    "pycharm": {
     "name": "#%% md\n"
    }
   },
   "source": [
    "1、反转字符串"
   ]
  },
  {
   "cell_type": "code",
   "execution_count": 1,
   "outputs": [
    {
     "data": {
      "text/plain": "['o', 'l', 'l', 'e', 'h']"
     },
     "metadata": {},
     "output_type": "execute_result",
     "execution_count": 1
    }
   ],
   "source": [
    "s = [\"h\",\"e\",\"l\",\"l\",\"o\"]\n",
    "l = 0\n",
    "r = len(s)-1\n",
    "while l != r and r>l:\n",
    "    s[l],s[r] = s[r],s[l]\n",
    "    l+=1\n",
    "    r-=1\n",
    "s\n",
    "\"\"\"\n",
    "双指针或内置函数\n",
    "\"\"\""
   ],
   "metadata": {
    "collapsed": false,
    "pycharm": {
     "name": "#%%\n",
     "is_executing": false
    }
   }
  },
  {
   "cell_type": "markdown",
   "source": [
    "2、整数反转"
   ],
   "metadata": {
    "collapsed": false,
    "pycharm": {
     "name": "#%% md\n"
    }
   }
  },
  {
   "cell_type": "code",
   "execution_count": 12,
   "outputs": [
    {
     "name": "stdout",
     "text": [
      "0\n"
     ],
     "output_type": "stream"
    }
   ],
   "source": [
    "x = 1534236469\n",
    "src_x = str(x) \n",
    "state = 1\n",
    "if src_x[0] == '-':\n",
    "    state = -1\n",
    "    fin_src_x = src_x[1:][::-1]\n",
    "else:\n",
    "    fin_src_x = src_x[::-1]\n",
    "int_x = int(fin_src_x)*state\n",
    "if -2**31<=int_x<2**31:\n",
    "    print(int_x)\n",
    "print(0)\n",
    "\"\"\"\n",
    "可考虑不使用string1的方式\n",
    "直接使用数据的数学方式解决\n",
    "\"\"\""
   ],
   "metadata": {
    "collapsed": false,
    "pycharm": {
     "name": "#%%\n",
     "is_executing": false
    }
   }
  },
  {
   "cell_type": "markdown",
   "source": [
    "3、字符串中的第一个唯一字符"
   ],
   "metadata": {
    "collapsed": false,
    "pycharm": {
     "name": "#%% md\n"
    }
   }
  },
  {
   "cell_type": "code",
   "execution_count": 17,
   "outputs": [
    {
     "name": "stdout",
     "text": [
      "2\n-1\n"
     ],
     "output_type": "stream"
    }
   ],
   "source": [
    "s = \"loveleetcode\"\n",
    "for i in range(len(s)):\n",
    "    if s.count(s[i]) == 1:\n",
    "        print(i)\n",
    "        break\n",
    "print(-1)"
   ],
   "metadata": {
    "collapsed": false,
    "pycharm": {
     "name": "#%%\n",
     "is_executing": false
    }
   }
  },
  {
   "cell_type": "markdown",
   "source": [
    "4、有效的字母异位词"
   ],
   "metadata": {
    "collapsed": false,
    "pycharm": {
     "name": "#%% md\n"
    }
   }
  },
  {
   "cell_type": "code",
   "execution_count": 22,
   "outputs": [
    {
     "name": "stdout",
     "text": [
      "['a', 'r', 't']\n['a', 'c', 'r']\nFalse\n"
     ],
     "output_type": "stream"
    }
   ],
   "source": [
    "s = \"rat\"\n",
    "t = \"car\"\n",
    "lis_s = sorted(list(s))\n",
    "lis_t = sorted(list(t))\n",
    "print(lis_s)\n",
    "print(lis_t)\n",
    "if lis_s == lis_t:\n",
    "    print(True)\n",
    "else:\n",
    "    print(False)"
   ],
   "metadata": {
    "collapsed": false,
    "pycharm": {
     "name": "#%%\n",
     "is_executing": false
    }
   }
  },
  {
   "cell_type": "markdown",
   "source": [
    "5、验证回文串"
   ],
   "metadata": {
    "collapsed": false,
    "pycharm": {
     "name": "#%% md\n"
    }
   }
  },
  {
   "cell_type": "code",
   "execution_count": null,
   "outputs": [],
   "source": [
    "s = \"A man, a plan, a canal: Panama\"\n",
    "lis_s = list(s)\n",
    "for i in range(len(lis_s)-1,-1,-1):\n",
    "    if not lis_s[i].isalnum():\n",
    "        del lis_s[i]\n",
    "    elif lis_s[i].isupper():\n",
    "        lis_s[i] = lis_s[i].lower()\n",
    "if lis_s == lis_s[::-1]:\n",
    "    print(True)\n",
    "else:\n",
    "    print(False)\n",
    "\"\"\"\n",
    "也可使用双指针\n",
    "\"\"\"\n",
    "# l = 0\n",
    "# r = len(s)-1\n",
    "# while l != r and r>l:\n",
    "#     if not s[l].isalnum():\n",
    "#         l+=1\n",
    "#         continue\n",
    "#     elif not s[r].isalnum():\n",
    "#         r-=1\n",
    "#         continue\n",
    "#     \n",
    "#     if s[l] != s[r]:\n",
    "#         print(False)\n",
    "#         break\n",
    "#     l+=1\n",
    "#     r-=1\n",
    "# print(True)"
   ],
   "metadata": {
    "collapsed": false,
    "pycharm": {
     "name": "#%%\n",
     "is_executing": true
    }
   }
  },
  {
   "cell_type": "markdown",
   "source": [
    "6、字符串转换整数 (atoi)2"
   ],
   "metadata": {
    "collapsed": false,
    "pycharm": {
     "name": "#%% md\n"
    }
   }
  },
  {
   "cell_type": "code",
   "execution_count": null,
   "outputs": [],
   "source": [],
   "metadata": {
    "collapsed": false,
    "pycharm": {
     "name": "#%%\n"
    }
   }
  }
 ],
 "metadata": {
  "language_info": {
   "codemirror_mode": {
    "name": "ipython",
    "version": 2
   },
   "file_extension": ".py",
   "mimetype": "text/x-python",
   "name": "python",
   "nbconvert_exporter": "python",
   "pygments_lexer": "ipython2",
   "version": "2.7.6"
  },
  "kernelspec": {
   "name": "python3",
   "language": "python",
   "display_name": "Python 3"
  },
  "pycharm": {
   "stem_cell": {
    "cell_type": "raw",
    "source": [],
    "metadata": {
     "collapsed": false
    }
   }
  }
 },
 "nbformat": 4,
 "nbformat_minor": 0
}