{
 "cells": [
  {
   "cell_type": "code",
   "execution_count": null,
   "outputs": [],
   "source": [
    "from typing import *"
   ],
   "metadata": {
    "collapsed": false,
    "pycharm": {
     "name": "#%%\n"
    }
   }
  },
  {
   "cell_type": "markdown",
   "source": [
    "1、删除排序数组中的重复项"
   ],
   "metadata": {
    "collapsed": false
   }
  },
  {
   "cell_type": "code",
   "execution_count": 4,
   "outputs": [
    {
     "name": "stdout",
     "text": [
      "[0, 1, 2, 3, 4]\n"
     ],
     "output_type": "stream"
    },
    {
     "data": {
      "text/plain": "'\\n要点：逆序删除\\n如使用正序删除会造成地址越界，以及指针指向错误\\n正序删除时，造成删除数据的数组长度变化以及相对位置变化\\n在规定的循环索引中无法正确的指向后面的数据\\n而使用逆序删除时，由于每次最多删除一个数据，并且每次循环向前一个位置，从而相对位置不变\\n删除后面数据造成数组变化时，不会影响到未处理到的数据，而正序删除会影响到后面的数据\\n'"
     },
     "metadata": {},
     "output_type": "execute_result",
     "execution_count": 4
    }
   ],
   "source": [
    "nums = [0,0,1,1,1,2,2,3,3,4]\n",
    "for i in range(len(nums)-1,0,-1):\n",
    "    # print(i)\n",
    "    if nums[i] == nums[i-1]:\n",
    "        del nums[i]\n",
    "print(nums)\n",
    "\"\"\"\n",
    "要点：逆序删除\n",
    "如使用正序删除会造成地址越界，以及指针指向错误\n",
    "正序删除时，造成删除数据的数组长度变化以及相对位置变化\n",
    "在规定的循环索引中无法正确的指向后面的数据\n",
    "而使用逆序删除时，由于每次最多删除一个数据，并且每次循环向前一个位置，从而相对位置不变\n",
    "删除后面数据造成数组变化时，不会影响到未处理到的数据，而正序删除会影响到后面的数据\n",
    "\"\"\""
   ],
   "metadata": {
    "collapsed": false,
    "pycharm": {
     "name": "#%%\n",
     "is_executing": false
    }
   }
  },
  {
   "cell_type": "markdown",
   "source": [
    "2、买卖股票的最佳时机 II"
   ],
   "metadata": {
    "collapsed": false
   }
  },
  {
   "cell_type": "code",
   "execution_count": 5,
   "outputs": [
    {
     "name": "stdout",
     "text": [
      "7\n"
     ],
     "output_type": "stream"
    },
    {
     "data": {
      "text/plain": "'\\n转换思路，在对数据不理解的情况下，可以通过一定的画图来拓展思维。\\n观察数据逻辑。\\n'"
     },
     "metadata": {},
     "output_type": "execute_result",
     "execution_count": 5
    }
   ],
   "source": [
    "prices = [7,1,5,3,6,4]\n",
    "sums = 0\n",
    "for i in range(len(prices)-1):\n",
    "    sums+=max((prices[i+1]-prices[i]),0)\n",
    "print(sums)\n",
    "\"\"\"\n",
    "转换思路，在对数据不理解的情况下，可以通过一定的画图来拓展思维。\n",
    "观察数据逻辑。\n",
    "\"\"\""
   ],
   "metadata": {
    "collapsed": false,
    "pycharm": {
     "name": "#%%\n",
     "is_executing": false
    }
   }
  },
  {
   "cell_type": "markdown",
   "source": [
    "3、旋转数组"
   ],
   "metadata": {
    "collapsed": false
   }
  },
  {
   "cell_type": "code",
   "execution_count": null,
   "outputs": [],
   "source": [
    "nums = [1,2,3,4,5,6,7]\n",
    "k = 3\n",
    "k = k%len(nums)\n",
    "nums[:] = nums[-k:]+nums[:-k]\n",
    "print(nums)\n",
    "\"\"\"\n",
    "注意点：nums和nums[:]\n",
    "nums指向的是对象，nums[:]指向为元素\n",
    "nums[:]为浅拷贝\n",
    "\"\"\""
   ],
   "metadata": {
    "collapsed": false,
    "pycharm": {
     "name": "#%%\n"
    }
   }
  },
  {
   "cell_type": "markdown",
   "source": [
    "4、存在重复元素"
   ],
   "metadata": {
    "collapsed": false
   }
  },
  {
   "cell_type": "code",
   "execution_count": null,
   "outputs": [],
   "source": [
    "# nums = [1,2,3,1]\n",
    "# for i in nums:\n",
    "#     if nums.count(i) >=2:\n",
    "#         print(True)\n",
    "# print(False)\n",
    "\n",
    "nums.sort()\n",
    "print(nums)\n",
    "for i in range(len(nums)-1):\n",
    "    if nums[i] == nums[i+1]:\n",
    "        print(True)\n",
    "print(False)\n",
    "\"\"\"\n",
    "暴力解法时间太长，可先用排序思想再求相同\n",
    "\"\"\""
   ],
   "metadata": {
    "collapsed": false,
    "pycharm": {
     "name": "#%%\n"
    }
   }
  },
  {
   "cell_type": "markdown",
   "source": [
    "5、只出现一次的数字"
   ],
   "metadata": {
    "collapsed": false
   }
  },
  {
   "cell_type": "code",
   "execution_count": null,
   "outputs": [],
   "source": [
    "nums = [4,1,2,1,2]\n",
    "# nums.sort()\n",
    "# for i in range(0,len(nums)-1,2):\n",
    "#     if nums[i] != nums[i+1]:\n",
    "#         print(nums[i])\n",
    "# print(nums[-1])\n",
    "res = 0\n",
    "for i in nums:\n",
    "    res ^= i\n",
    "print(res)\n",
    "\"\"\"\n",
    "使用异或操作\n",
    "熟悉各种数字逻辑操作，有些可以优化操作\n",
    "\"\"\""
   ],
   "metadata": {
    "collapsed": false,
    "pycharm": {
     "name": "#%%\n"
    }
   }
  },
  {
   "cell_type": "markdown",
   "source": [
    "6、两个数组的交集 II"
   ],
   "metadata": {
    "collapsed": false
   }
  },
  {
   "cell_type": "code",
   "execution_count": null,
   "outputs": [],
   "source": [
    "nums1 = [4,9,5]\n",
    "nums2 = [9,4,9,8,4]\n",
    "nums1.sort()\n",
    "nums2.sort()\n",
    "r,l = 0,0\n",
    "res = []\n",
    "while r<len(nums1) and l<len(nums2):\n",
    "    # print(r,l)\n",
    "    if nums1[r]>nums2[l]:\n",
    "        l=l+1\n",
    "    elif nums1[r]<nums2[l]:\n",
    "        r=r+1\n",
    "    else:\n",
    "        res.append(nums1[r])\n",
    "        l=l+1\n",
    "        r=r+1\n",
    "        # print(res)\n",
    "print(res)\n",
    "\"\"\"\n",
    "熟悉双指针的使用方法\n",
    "\"\"\""
   ],
   "metadata": {
    "collapsed": false,
    "pycharm": {
     "name": "#%%\n"
    }
   }
  },
  {
   "cell_type": "markdown",
   "source": [
    "7、加一"
   ],
   "metadata": {
    "collapsed": false
   }
  },
  {
   "cell_type": "code",
   "execution_count": 20,
   "outputs": [
    {
     "name": "stdout",
     "text": [
      "2\n1\n[9, 9, 0]\n"
     ],
     "output_type": "stream"
    }
   ],
   "source": [
    "digits =[9,8,9]\n",
    "if digits[-1]<9:\n",
    "    digits[-1]+=1\n",
    "else:\n",
    "    for i in range(len(digits)-1,-1,-1):\n",
    "        print(i)\n",
    "        if digits[i] == 9:\n",
    "            if i == 0:\n",
    "                digits[i] = 1\n",
    "                digits = digits + [0]\n",
    "            else:\n",
    "                digits[i] = 0\n",
    "        else: \n",
    "            digits[i] = digits[i]+1\n",
    "            break\n",
    "print(digits)\n",
    "\"\"\"\n",
    "熟悉for循环中方法的使用\n",
    "增强代码的健壮性\n",
    "\"\"\""
   ],
   "metadata": {
    "collapsed": false,
    "pycharm": {
     "name": "#%% \n",
     "is_executing": false
    }
   }
  },
  {
   "cell_type": "markdown",
   "source": [
    "8、移动零"
   ],
   "metadata": {
    "collapsed": false,
    "pycharm": {
     "name": "#%% md\n"
    }
   }
  },
  {
   "cell_type": "code",
   "execution_count": 6,
   "outputs": [
    {
     "name": "stdout",
     "text": [
      "4\n3\n2\n1\n0\n[1, 3, 12, 0, 0]\n"
     ],
     "output_type": "stream"
    }
   ],
   "source": [
    "nums = [0,1,0,3,12]\n",
    "for i in range(len(nums)-1,-1,-1):\n",
    "    if nums[i] == 0:\n",
    "        del nums[i]\n",
    "        nums[:] = nums + [0]\n",
    "print(nums)"
   ],
   "metadata": {
    "collapsed": false,
    "pycharm": {
     "name": "#%% \n",
     "is_executing": false
    }
   }
  },
  {
   "cell_type": "markdown",
   "source": [
    "9、两数之和"
   ],
   "metadata": {
    "collapsed": false,
    "pycharm": {
     "name": "#%% md\n"
    }
   }
  },
  {
   "cell_type": "code",
   "execution_count": 2,
   "outputs": [
    {
     "name": "stdout",
     "text": [
      "[0, 1]\n"
     ],
     "output_type": "stream"
    },
    {
     "data": {
      "text/plain": "'\\n巧用字典降低循环复杂度\\n'"
     },
     "metadata": {},
     "output_type": "execute_result",
     "execution_count": 2
    }
   ],
   "source": [
    "nums = [2,7,11,15]\n",
    "target = 9\n",
    "dict_num = dict()\n",
    "for i,v in enumerate(nums):\n",
    "    temp = target-v\n",
    "    if dict_num.get(temp) is not None:\n",
    "        print([dict_num[temp],i])\n",
    "    else:\n",
    "        dict_num[v]=i\n",
    "\"\"\"\n",
    "巧用字典降低循环复杂度\n",
    "\"\"\""
   ],
   "metadata": {
    "collapsed": false,
    "pycharm": {
     "name": "#%%\n",
     "is_executing": false
    }
   }
  },
  {
   "cell_type": "markdown",
   "source": [
    "10、有效的数独"
   ],
   "metadata": {
    "collapsed": false,
    "pycharm": {
     "name": "#%% md\n"
    }
   }
  },
  {
   "cell_type": "code",
   "execution_count": 98,
   "outputs": [
    {
     "name": "stdout",
     "text": [
      "4\n"
     ],
     "output_type": "stream"
    }
   ],
   "source": [
    "board =\\\n",
    "[[\".\",\"4\",\".\",\".\",\".\",\".\",\".\",\".\",\".\"],\n",
    " [\".\",\".\",\"4\",\".\",\".\",\".\",\".\",\".\",\".\"],\n",
    " [\".\",\".\",\".\",\"1\",\".\",\".\",\"7\",\".\",\".\"],\n",
    " [\".\",\".\",\".\",\".\",\".\",\".\",\".\",\".\",\".\"],\n",
    " [\".\",\".\",\".\",\"3\",\".\",\".\",\".\",\"6\",\".\"],\n",
    " [\".\",\".\",\".\",\".\",\".\",\"6\",\".\",\"9\",\".\"],\n",
    " [\".\",\".\",\".\",\".\",\"1\",\".\",\".\",\".\",\".\"],\n",
    " [\".\",\".\",\".\",\".\",\".\",\".\",\"2\",\".\",\".\"],\n",
    " [\".\",\".\",\".\",\"8\",\".\",\".\",\".\",\".\",\".\"]]\n",
    "\n",
    "row = [[] for i in range(9)]\n",
    "col = [[] for i in range(9)]\n",
    "block = [[] for i in range(9)]\n",
    "temp = 0\n",
    "for i in range(9):\n",
    "    row[i]=board[i]\n",
    "    buf = sorted(row[i])\n",
    "    # print(buf)\n",
    "    for k in range(8,0,-1):\n",
    "        if buf[k] == buf[k-1]:\n",
    "            if buf[k]=='.':\n",
    "                continue\n",
    "            print(buf[k])\n",
    "    for j in range(9):\n",
    "        col[j].append(board[i][j])\n",
    "        temp = j//3\n",
    "        block[temp+(i//3)*3].append(board[i][j])\n",
    "        \n",
    "for i in range(9):\n",
    "    buf = sorted(col[i])\n",
    "    buf2 = sorted(block[i])\n",
    "    # print(buf)\n",
    "    for k in range(8,0,-1):\n",
    "        if buf[k] == buf[k-1]:\n",
    "            if buf[k]!='.':\n",
    "                print(buf[k])\n",
    "        if buf2[k] == buf2[k-1]:\n",
    "            if buf2[k]!='.':\n",
    "                print(buf2[k])\n",
    "\"\"\"\n",
    "编码能力\n",
    "\"\"\""
   ],
   "metadata": {
    "collapsed": false,
    "pycharm": {
     "name": "#%%\n",
     "is_executing": false
    }
   }
  },
  {
   "cell_type": "code",
   "execution_count": 25,
   "outputs": [
    {
     "name": "stdout",
     "text": [
      "True\n"
     ],
     "output_type": "stream"
    }
   ],
   "source": [
    "board =\\\n",
    "[[\"5\",\"3\",\".\",\".\",\"7\",\".\",\".\",\".\",\".\"]\n",
    ",[\"6\",\".\",\".\",\"1\",\"9\",\"5\",\".\",\".\",\".\"]\n",
    ",[\".\",\"9\",\"8\",\".\",\".\",\".\",\".\",\"6\",\".\"]\n",
    ",[\"8\",\".\",\".\",\".\",\"6\",\".\",\".\",\".\",\"3\"]\n",
    ",[\"4\",\".\",\".\",\"8\",\".\",\"3\",\".\",\".\",\"1\"]\n",
    ",[\"7\",\".\",\".\",\".\",\"2\",\".\",\".\",\".\",\"6\"]\n",
    ",[\".\",\"6\",\".\",\".\",\".\",\".\",\"2\",\"8\",\".\"]\n",
    ",[\".\",\".\",\".\",\"4\",\"1\",\"9\",\".\",\".\",\"5\"]\n",
    ",[\".\",\".\",\".\",\".\",\"8\",\".\",\".\",\"7\",\"9\"]]\n",
    "\n",
    "row = [[0]*9 for i in range(9)]\n",
    "col = [[0]*9 for i in range(9)]\n",
    "block = [[0]*9 for i in range(9)]\n",
    "for i,v in enumerate(board):\n",
    "    for j,k in enumerate(v):\n",
    "        if k == '.':\n",
    "            continue\n",
    "        num = int(k)-1\n",
    "        x = i//3*3+j//3\n",
    "        if row[i][num] != 0 or col[j][num]!=0 or block[x][num] != 0:\n",
    "            print(False)\n",
    "        row[i][num] = col[j][num] = block[x][num] = 1\n",
    "print(True)"
   ],
   "metadata": {
    "collapsed": false,
    "pycharm": {
     "name": "#%%\n",
     "is_executing": false
    }
   }
  },
  {
   "cell_type": "markdown",
   "source": [
    "11、旋转图像"
   ],
   "metadata": {
    "collapsed": false,
    "pycharm": {
     "name": "#%% md\n"
    }
   }
  },
  {
   "cell_type": "code",
   "execution_count": null,
   "outputs": [],
   "source": [
    "\n"
   ],
   "metadata": {
    "collapsed": false,
    "pycharm": {
     "name": "#%%\n"
    }
   }
  }
 ],
 "metadata": {
  "language_info": {
   "codemirror_mode": {
    "name": "ipython",
    "version": 2
   },
   "file_extension": ".py",
   "mimetype": "text/x-python",
   "name": "python",
   "nbconvert_exporter": "python",
   "pygments_lexer": "ipython2",
   "version": "2.7.6"
  },
  "kernelspec": {
   "name": "conda-env-pytorch-py",
   "language": "python",
   "display_name": "Python [conda env:pytorch] *"
  },
  "pycharm": {
   "stem_cell": {
    "cell_type": "raw",
    "source": [],
    "metadata": {
     "collapsed": false
    }
   }
  }
 },
 "nbformat": 4,
 "nbformat_minor": 0
}